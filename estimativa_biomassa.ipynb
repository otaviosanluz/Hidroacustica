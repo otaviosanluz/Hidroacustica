{
 "cells": [
  {
   "cell_type": "markdown",
   "metadata": {},
   "source": [
    "### Hidroacústica Aplicada"
   ]
  },
  {
   "cell_type": "code",
   "execution_count": 1,
   "metadata": {},
   "outputs": [],
   "source": [
    "# Importando as bibliotecas\n",
    "import pandas as pd\n",
    "import numpy as np\n",
    "import math"
   ]
  },
  {
   "cell_type": "markdown",
   "metadata": {},
   "source": [
    "### Cálculos"
   ]
  },
  {
   "cell_type": "code",
   "execution_count": 3,
   "metadata": {},
   "outputs": [],
   "source": [
    "# Organizando os dados (NASC, ESDU, biométricos e ocorrências)\n",
    "\n",
    "'''Sub-área A'''\n",
    "nasc_a = np.array([125.0, 321.0, 465.0, 403.0, 300.0, 262.0, 356.0, 214.0, 110.0, 441.0, 365.0, 278.0, 452.0, 698.0, 446.0, \n",
    "                   541.0, 523.0, 632.0, 236.0, 122.0, 103.0, 187.0, 222.0, 212.0, 231.0, 420.0, 216.0, 366.0, 230.0, 111.0])\n",
    "\n",
    "esdu_a = np.array([1, 2, 3, 4, 5, 6, 7, 8, 9, 10, 11, 12, 13, 14, 15, 16, 17, 18, 19, 20, 21, 22, 23, 24, 25,\n",
    "                   26, 27, 28, 29, 30])\n",
    "\n",
    "moda_a = np.array([11, 14, 9, 12, 8, 11])\n",
    "\n",
    "ocor_a = np.array([134, 90, 140, 90, 20, 8])\n",
    "\n",
    "'''Sub-área B'''\n",
    "nasc_b = np.array([450.0, 557.0, 870.0, 590.0, 780.0, 659.0, 666.0, 478.0, 596.0, 987.0, 968.0, 655.0, 774.0, 256.0, 123.0,\n",
    "                   488.0, 496.0, 1053.0, 997.0, 645.0, 98.0, 65.0, 321.0, 1436.0, 988.0, 265.0, 759.0, 785.0, 658.0, 695.0]) \n",
    "\n",
    "esdu_b = np.array([31, 32, 33, 34, 35, 36, 37, 38, 39, 40, 41, 42, 43, 44, 45, 46, 47, 48, 49, 50, 51, 52, 53, 54, 55, 56, 57,\n",
    "                  58, 59, 60])\n",
    "\n",
    "moda_b = np.array([16, 18, 12, 16, 10, 12])\n",
    "\n",
    "ocor_b = np.array([45, 50, 75, 70, 45, 50])"
   ]
  },
  {
   "cell_type": "code",
   "execution_count": 4,
   "metadata": {},
   "outputs": [
    {
     "name": "stdout",
     "output_type": "stream",
     "text": [
      "Sub-área A\n"
     ]
    },
    {
     "data": {
      "text/html": [
       "<div>\n",
       "<style scoped>\n",
       "    .dataframe tbody tr th:only-of-type {\n",
       "        vertical-align: middle;\n",
       "    }\n",
       "\n",
       "    .dataframe tbody tr th {\n",
       "        vertical-align: top;\n",
       "    }\n",
       "\n",
       "    .dataframe thead th {\n",
       "        text-align: right;\n",
       "    }\n",
       "</style>\n",
       "<table border=\"1\" class=\"dataframe\">\n",
       "  <thead>\n",
       "    <tr style=\"text-align: right;\">\n",
       "      <th></th>\n",
       "      <th>ESDU</th>\n",
       "      <th>NASC</th>\n",
       "    </tr>\n",
       "  </thead>\n",
       "  <tbody>\n",
       "    <tr>\n",
       "      <th>0</th>\n",
       "      <td>1</td>\n",
       "      <td>125.0</td>\n",
       "    </tr>\n",
       "    <tr>\n",
       "      <th>1</th>\n",
       "      <td>2</td>\n",
       "      <td>321.0</td>\n",
       "    </tr>\n",
       "    <tr>\n",
       "      <th>2</th>\n",
       "      <td>3</td>\n",
       "      <td>465.0</td>\n",
       "    </tr>\n",
       "    <tr>\n",
       "      <th>3</th>\n",
       "      <td>4</td>\n",
       "      <td>403.0</td>\n",
       "    </tr>\n",
       "    <tr>\n",
       "      <th>4</th>\n",
       "      <td>5</td>\n",
       "      <td>300.0</td>\n",
       "    </tr>\n",
       "  </tbody>\n",
       "</table>\n",
       "</div>"
      ],
      "text/plain": [
       "   ESDU   NASC\n",
       "0     1  125.0\n",
       "1     2  321.0\n",
       "2     3  465.0\n",
       "3     4  403.0\n",
       "4     5  300.0"
      ]
     },
     "execution_count": 4,
     "metadata": {},
     "output_type": "execute_result"
    }
   ],
   "source": [
    "# Transformando os dados (NASC, ESDU) da sub-área 'A' em um dataframe (tabela)\n",
    "df_a = pd.DataFrame(esdu_a, columns=['ESDU'])\n",
    "df_a['NASC'] = nasc_a\n",
    "print('Sub-área A')\n",
    "df_a.head() # mostra as cinco primeiras linhas do dataframe"
   ]
  },
  {
   "cell_type": "code",
   "execution_count": 5,
   "metadata": {},
   "outputs": [
    {
     "name": "stdout",
     "output_type": "stream",
     "text": [
      "Sub-área B\n"
     ]
    },
    {
     "data": {
      "text/html": [
       "<div>\n",
       "<style scoped>\n",
       "    .dataframe tbody tr th:only-of-type {\n",
       "        vertical-align: middle;\n",
       "    }\n",
       "\n",
       "    .dataframe tbody tr th {\n",
       "        vertical-align: top;\n",
       "    }\n",
       "\n",
       "    .dataframe thead th {\n",
       "        text-align: right;\n",
       "    }\n",
       "</style>\n",
       "<table border=\"1\" class=\"dataframe\">\n",
       "  <thead>\n",
       "    <tr style=\"text-align: right;\">\n",
       "      <th></th>\n",
       "      <th>ESDU</th>\n",
       "      <th>NASC</th>\n",
       "    </tr>\n",
       "  </thead>\n",
       "  <tbody>\n",
       "    <tr>\n",
       "      <th>0</th>\n",
       "      <td>31</td>\n",
       "      <td>450.0</td>\n",
       "    </tr>\n",
       "    <tr>\n",
       "      <th>1</th>\n",
       "      <td>32</td>\n",
       "      <td>557.0</td>\n",
       "    </tr>\n",
       "    <tr>\n",
       "      <th>2</th>\n",
       "      <td>33</td>\n",
       "      <td>870.0</td>\n",
       "    </tr>\n",
       "    <tr>\n",
       "      <th>3</th>\n",
       "      <td>34</td>\n",
       "      <td>590.0</td>\n",
       "    </tr>\n",
       "    <tr>\n",
       "      <th>4</th>\n",
       "      <td>35</td>\n",
       "      <td>780.0</td>\n",
       "    </tr>\n",
       "  </tbody>\n",
       "</table>\n",
       "</div>"
      ],
      "text/plain": [
       "   ESDU   NASC\n",
       "0    31  450.0\n",
       "1    32  557.0\n",
       "2    33  870.0\n",
       "3    34  590.0\n",
       "4    35  780.0"
      ]
     },
     "execution_count": 5,
     "metadata": {},
     "output_type": "execute_result"
    }
   ],
   "source": [
    "# Transformando os dados (NASC, ESDU) das sub-área 'B' em um dataframe (tabela)\n",
    "df_b = pd.DataFrame(esdu_b, columns = ['ESDU'])\n",
    "df_b['NASC'] = nasc_b\n",
    "print('Sub-área B')\n",
    "df_b.head() # mostra as cinco primeiras linhas do dataframe"
   ]
  },
  {
   "cell_type": "code",
   "execution_count": 6,
   "metadata": {},
   "outputs": [
    {
     "name": "stdout",
     "output_type": "stream",
     "text": [
      "Sub-área A\n"
     ]
    },
    {
     "data": {
      "text/html": [
       "<div>\n",
       "<style scoped>\n",
       "    .dataframe tbody tr th:only-of-type {\n",
       "        vertical-align: middle;\n",
       "    }\n",
       "\n",
       "    .dataframe tbody tr th {\n",
       "        vertical-align: top;\n",
       "    }\n",
       "\n",
       "    .dataframe thead th {\n",
       "        text-align: right;\n",
       "    }\n",
       "</style>\n",
       "<table border=\"1\" class=\"dataframe\">\n",
       "  <thead>\n",
       "    <tr style=\"text-align: right;\">\n",
       "      <th></th>\n",
       "      <th>Moda (cm)</th>\n",
       "      <th>Ocorrência (N)</th>\n",
       "    </tr>\n",
       "  </thead>\n",
       "  <tbody>\n",
       "    <tr>\n",
       "      <th>Sardinha</th>\n",
       "      <td>11</td>\n",
       "      <td>134</td>\n",
       "    </tr>\n",
       "    <tr>\n",
       "      <th>Sardinha</th>\n",
       "      <td>14</td>\n",
       "      <td>90</td>\n",
       "    </tr>\n",
       "    <tr>\n",
       "      <th>Xixarro</th>\n",
       "      <td>9</td>\n",
       "      <td>140</td>\n",
       "    </tr>\n",
       "    <tr>\n",
       "      <th>Xixarro</th>\n",
       "      <td>12</td>\n",
       "      <td>90</td>\n",
       "    </tr>\n",
       "    <tr>\n",
       "      <th>Cavalinha</th>\n",
       "      <td>8</td>\n",
       "      <td>20</td>\n",
       "    </tr>\n",
       "    <tr>\n",
       "      <th>Cavalinha</th>\n",
       "      <td>11</td>\n",
       "      <td>8</td>\n",
       "    </tr>\n",
       "  </tbody>\n",
       "</table>\n",
       "</div>"
      ],
      "text/plain": [
       "           Moda (cm)  Ocorrência (N)\n",
       "Sardinha          11             134\n",
       "Sardinha          14              90\n",
       "Xixarro            9             140\n",
       "Xixarro           12              90\n",
       "Cavalinha          8              20\n",
       "Cavalinha         11               8"
      ]
     },
     "execution_count": 6,
     "metadata": {},
     "output_type": "execute_result"
    }
   ],
   "source": [
    "# Transformando os dados biométricos (modas) e de ocorrências nas amostras da sub-área 'A' em um dataframe\n",
    "df_c = pd.DataFrame(moda_a, index= ['Sardinha', 'Sardinha', 'Xixarro', 'Xixarro', 'Cavalinha', 'Cavalinha'], columns = ['Moda (cm)'])\n",
    "df_c['Ocorrência (N)'] = ocor_a\n",
    "print('Sub-área A')\n",
    "df_c"
   ]
  },
  {
   "cell_type": "code",
   "execution_count": 7,
   "metadata": {},
   "outputs": [
    {
     "name": "stdout",
     "output_type": "stream",
     "text": [
      "Sub-área B\n"
     ]
    },
    {
     "data": {
      "text/html": [
       "<div>\n",
       "<style scoped>\n",
       "    .dataframe tbody tr th:only-of-type {\n",
       "        vertical-align: middle;\n",
       "    }\n",
       "\n",
       "    .dataframe tbody tr th {\n",
       "        vertical-align: top;\n",
       "    }\n",
       "\n",
       "    .dataframe thead th {\n",
       "        text-align: right;\n",
       "    }\n",
       "</style>\n",
       "<table border=\"1\" class=\"dataframe\">\n",
       "  <thead>\n",
       "    <tr style=\"text-align: right;\">\n",
       "      <th></th>\n",
       "      <th>Moda (cm)</th>\n",
       "      <th>Ocorrência (N)</th>\n",
       "    </tr>\n",
       "  </thead>\n",
       "  <tbody>\n",
       "    <tr>\n",
       "      <th>Sardinha</th>\n",
       "      <td>16</td>\n",
       "      <td>45</td>\n",
       "    </tr>\n",
       "    <tr>\n",
       "      <th>Sardinha</th>\n",
       "      <td>18</td>\n",
       "      <td>50</td>\n",
       "    </tr>\n",
       "    <tr>\n",
       "      <th>Xixarro</th>\n",
       "      <td>12</td>\n",
       "      <td>75</td>\n",
       "    </tr>\n",
       "    <tr>\n",
       "      <th>Xixarro</th>\n",
       "      <td>16</td>\n",
       "      <td>70</td>\n",
       "    </tr>\n",
       "    <tr>\n",
       "      <th>Cavalinha</th>\n",
       "      <td>10</td>\n",
       "      <td>45</td>\n",
       "    </tr>\n",
       "    <tr>\n",
       "      <th>Cavalinha</th>\n",
       "      <td>12</td>\n",
       "      <td>50</td>\n",
       "    </tr>\n",
       "  </tbody>\n",
       "</table>\n",
       "</div>"
      ],
      "text/plain": [
       "           Moda (cm)  Ocorrência (N)\n",
       "Sardinha          16              45\n",
       "Sardinha          18              50\n",
       "Xixarro           12              75\n",
       "Xixarro           16              70\n",
       "Cavalinha         10              45\n",
       "Cavalinha         12              50"
      ]
     },
     "execution_count": 7,
     "metadata": {},
     "output_type": "execute_result"
    }
   ],
   "source": [
    "# Transformando os dados biométricos (modas) e de ocorrências nas amostras da sub-área 'B' em um dataframe\n",
    "df_d = pd.DataFrame(moda_b, index= ['Sardinha', 'Sardinha', 'Xixarro', 'Xixarro', 'Cavalinha', 'Cavalinha'], columns = ['Moda (cm)'])\n",
    "df_d['Ocorrência (N)'] = ocor_b\n",
    "print('Sub-área B')\n",
    "df_d"
   ]
  },
  {
   "cell_type": "code",
   "execution_count": 8,
   "metadata": {},
   "outputs": [
    {
     "name": "stdout",
     "output_type": "stream",
     "text": [
      "NASC médio sub-área A: 319.6 \n",
      "Desvio padrão sub-área A: 157.93\n",
      "NASC médio sub-área B: 638.6 \n",
      "Desvio padrão sub-área B: 311.28\n"
     ]
    }
   ],
   "source": [
    "# NASC médio e desvio padrão\n",
    "\n",
    "'''Sub-área A'''\n",
    "nasc_mean_a = df_a['NASC'].mean()\n",
    "nasc_std_a = round(df_a['NASC'].std(), 2)\n",
    "print(f'NASC médio sub-área A: {nasc_mean_a} \\nDesvio padrão sub-área A: {nasc_std_a}')\n",
    "\n",
    "'''Sub-área B'''\n",
    "nasc_mean_b = df_b['NASC'].mean()\n",
    "nasc_std_b = round(df_b['NASC'].std(), 2)\n",
    "print(f'NASC médio sub-área B: {nasc_mean_b} \\nDesvio padrão sub-área B: {nasc_std_b}')"
   ]
  },
  {
   "cell_type": "code",
   "execution_count": 9,
   "metadata": {},
   "outputs": [],
   "source": [
    "# Funções que calculam TS para cada espécie\n",
    "def ts_sardinha(lt):\n",
    "    a = 20 * np.log10(lt)\n",
    "    ts = round(a - 71.2, 2)\n",
    "    return(ts)\n",
    "\n",
    "def ts_xixarro(lt):\n",
    "    a = 20 * np.log10(lt)\n",
    "    ts = round(a - 66.8, 2)\n",
    "    return(ts)\n",
    "    \n",
    "def ts_cavalinha(lt):\n",
    "    a = 20 * np.log10(lt)\n",
    "    ts = round(a - 74.5, 2)\n",
    "    return(ts)"
   ]
  },
  {
   "cell_type": "code",
   "execution_count": 10,
   "metadata": {},
   "outputs": [],
   "source": [
    "# Cálculo de TS\n",
    "\n",
    "'''Sub-área A'''\n",
    "# Sardinha\n",
    "ts_sardinha1 = ts_sardinha(df_c['Moda (cm)'][0])\n",
    "ts_sardinha2 = ts_sardinha(df_c['Moda (cm)'][1])\n",
    "# Xixarro\n",
    "ts_xixarro1 = ts_xixarro(df_c['Moda (cm)'][2])\n",
    "ts_xixarro2 = ts_xixarro(df_c['Moda (cm)'][3])\n",
    "# Cavalinha\n",
    "ts_cavalinha1 = ts_cavalinha(df_c['Moda (cm)'][4])\n",
    "ts_cavalinha2 = ts_cavalinha(df_c['Moda (cm)'][5])\n",
    "\n",
    "'''Sub-área B'''\n",
    "# Sardinha\n",
    "ts_sardinha3 = ts_sardinha(df_d['Moda (cm)'][0])\n",
    "ts_sardinha4 = ts_sardinha(df_d['Moda (cm)'][1])\n",
    "# Xixarro\n",
    "ts_xixarro3 = ts_xixarro(df_d['Moda (cm)'][2])\n",
    "ts_xixarro4 = ts_xixarro(df_d['Moda (cm)'][3])\n",
    "# Cavalinha\n",
    "ts_cavalinha3 = ts_cavalinha(df_d['Moda (cm)'][4])\n",
    "ts_cavalinha4 = ts_cavalinha(df_d['Moda (cm)'][5])"
   ]
  },
  {
   "cell_type": "code",
   "execution_count": 11,
   "metadata": {},
   "outputs": [],
   "source": [
    "# Função que calcula sigma bs\n",
    "def bs(ts):\n",
    "    a = ts/10\n",
    "    bs = 10**a\n",
    "    return(bs)"
   ]
  },
  {
   "cell_type": "code",
   "execution_count": 12,
   "metadata": {},
   "outputs": [],
   "source": [
    "# Cálculos de sigma bs\n",
    "\n",
    "'''Sub-área A'''\n",
    "# Sardinha\n",
    "bs_sardinha1 = bs(ts_sardinha1)\n",
    "bs_sardinha2 = bs(ts_sardinha2)\n",
    "# Xixarro\n",
    "bs_xixarro1 = bs(ts_xixarro1)\n",
    "bs_xixarro2 = bs(ts_xixarro2)\n",
    "# Cavalinha\n",
    "bs_cavalinha1 = bs(ts_cavalinha1)\n",
    "bs_cavalinha2 = bs(ts_cavalinha2)\n",
    "\n",
    "'''Sub-área B'''\n",
    "# Sardinha\n",
    "bs_sardinha3 = bs(ts_sardinha3)\n",
    "bs_sardinha4 = bs(ts_sardinha4)\n",
    "# Xixarro\n",
    "bs_xixarro3 = bs(ts_xixarro3)\n",
    "bs_xixarro4 = bs(ts_xixarro4)\n",
    "# Cavalinha\n",
    "bs_cavalinha3 = bs(ts_cavalinha3)\n",
    "bs_cavalinha4 = bs(ts_cavalinha4)"
   ]
  },
  {
   "cell_type": "code",
   "execution_count": 13,
   "metadata": {},
   "outputs": [],
   "source": [
    "# Cálculo do somatório de frequências x sigma bs\n",
    "\n",
    "'''Sub-área A'''\n",
    "somatorio_a = ((df_c['Ocorrência (N)'][0] * bs_sardinha1) +\n",
    "               (df_c['Ocorrência (N)'][1] * bs_sardinha2) +\n",
    "               (df_c['Ocorrência (N)'][2] * bs_xixarro1) +\n",
    "               (df_c['Ocorrência (N)'][3] * bs_xixarro2) +\n",
    "               (df_c['Ocorrência (N)'][4] * bs_cavalinha1) +\n",
    "               (df_c['Ocorrência (N)'][5] * bs_cavalinha2))\n",
    "\n",
    "'''Sub-área B'''\n",
    "somatorio_b = ((df_d['Ocorrência (N)'][0] * bs_sardinha3) +\n",
    "               (df_d['Ocorrência (N)'][1] * bs_sardinha4) +\n",
    "               (df_d['Ocorrência (N)'][2] * bs_xixarro3) +\n",
    "               (df_d['Ocorrência (N)'][3] * bs_xixarro4) +\n",
    "               (df_d['Ocorrência (N)'][4] * bs_cavalinha3) +\n",
    "               (df_d['Ocorrência (N)'][5] * bs_cavalinha4))"
   ]
  },
  {
   "cell_type": "code",
   "execution_count": 14,
   "metadata": {},
   "outputs": [],
   "source": [
    "# Função que calcula a densidade numérica (nº ind / mn²)\n",
    "def pjh(fjh, nasc, somatorio):\n",
    "    a = 4 * math.pi * somatorio\n",
    "    b = nasc / a\n",
    "    pjh = fjh * b\n",
    "    return(pjh)"
   ]
  },
  {
   "cell_type": "code",
   "execution_count": 15,
   "metadata": {},
   "outputs": [],
   "source": [
    "# Cálculo da densidade numérica (nº ind / mn²)\n",
    "\n",
    "'''Sub-área A'''\n",
    "# Sardinha\n",
    "pjh_sardinha1 = pjh(df_c['Ocorrência (N)'][0], nasc_mean_a, somatorio_a)\n",
    "pjh_sardinha2 = pjh(df_c['Ocorrência (N)'][1], nasc_mean_a, somatorio_a)\n",
    "# Xixarro\n",
    "pjh_xixarro1 = pjh(df_c['Ocorrência (N)'][2], nasc_mean_a, somatorio_a)\n",
    "pjh_xixarro2 = pjh(df_c['Ocorrência (N)'][3], nasc_mean_a, somatorio_a)\n",
    "# Cavalinha\n",
    "pjh_cavalinha1 = pjh(df_c['Ocorrência (N)'][4], nasc_mean_a, somatorio_a)\n",
    "pjh_cavalinha2 = pjh(df_c['Ocorrência (N)'][5], nasc_mean_a, somatorio_a)\n",
    "\n",
    "'''Sub-área B'''\n",
    "# Sardinha\n",
    "pjh_sardinha3 = pjh(df_d['Ocorrência (N)'][0], nasc_mean_b, somatorio_b)\n",
    "pjh_sardinha4 = pjh(df_d['Ocorrência (N)'][1], nasc_mean_b, somatorio_b)\n",
    "# Xixarro\n",
    "pjh_xixarro3 = pjh(df_d['Ocorrência (N)'][2], nasc_mean_b, somatorio_b)\n",
    "pjh_xixarro4 = pjh(df_d['Ocorrência (N)'][3], nasc_mean_b, somatorio_b)\n",
    "# Cavalinha\n",
    "pjh_cavalinha3 = pjh(df_d['Ocorrência (N)'][4], nasc_mean_b, somatorio_b)\n",
    "pjh_cavalinha4 = pjh(df_d['Ocorrência (N)'][5], nasc_mean_b, somatorio_b)"
   ]
  },
  {
   "cell_type": "code",
   "execution_count": 16,
   "metadata": {},
   "outputs": [],
   "source": [
    "# Densidade numérica por espécie e sub-área\n",
    "\n",
    "'''Sub-área A'''\n",
    "# Sardinha\n",
    "pjh_sardinha_a = round(pjh_sardinha1 + pjh_sardinha2, 2)\n",
    "# Xixarro\n",
    "pjh_xixarro_a = round(pjh_xixarro1 + pjh_xixarro2, 2)\n",
    "# Cavalinha\n",
    "pjh_cavalinha_a = round(pjh_cavalinha1 + pjh_cavalinha2, 2)\n",
    "\n",
    "'''Sub-área B'''\n",
    "# Sardinha\n",
    "pjh_sardinha_b = round(pjh_sardinha3 + pjh_sardinha4, 2)\n",
    "# Xixarro\n",
    "pjh_xixarro_b = round(pjh_xixarro3 + pjh_xixarro4, 2)\n",
    "# Cavalinha\n",
    "pjh_cavalinha_b = round(pjh_cavalinha3 + pjh_cavalinha4, 2)\n",
    "\n",
    "densidade_numerica_a = np.array([pjh_sardinha_a, pjh_xixarro_a, pjh_cavalinha_a])\n",
    "densidade_numerica_b = np.array([pjh_sardinha_b, pjh_xixarro_b, pjh_cavalinha_b])                         "
   ]
  },
  {
   "cell_type": "code",
   "execution_count": 17,
   "metadata": {},
   "outputs": [],
   "source": [
    "# Função que calcula as densidades em peso (ton / mn²) por espécie\n",
    "def peso_sardinha(lt):\n",
    "    a = lt ** 3.11\n",
    "    p = (0.0043 * a) / 1000000\n",
    "    return(p)\n",
    "\n",
    "def peso_xixarro(lt):\n",
    "    a = lt ** 2.93\n",
    "    p = (0.0105 * a) / 1000000\n",
    "    return(p)\n",
    "\n",
    "def peso_cavalinha(lt):\n",
    "    a = lt ** 3.30\n",
    "    p = (0.0110 * a) / 1000000\n",
    "    return(p)"
   ]
  },
  {
   "cell_type": "code",
   "execution_count": 18,
   "metadata": {},
   "outputs": [],
   "source": [
    "# Cálculo das densidades em peso (ton / mn²) por espécie e sub-área\n",
    "\n",
    "'''Sub-área A'''\n",
    "# Sardinha\n",
    "p_sardinha1 = peso_sardinha(df_c['Moda (cm)'][0]) * pjh_sardinha1 \n",
    "p_sardinha2 = peso_sardinha(df_c['Moda (cm)'][1]) * pjh_sardinha2\n",
    "# Xixarro\n",
    "p_xixarro1 = peso_xixarro(df_c['Moda (cm)'][2]) * pjh_xixarro1\n",
    "p_xixarro2 = peso_xixarro(df_c['Moda (cm)'][3]) * pjh_xixarro2\n",
    "# Cavalinha\n",
    "p_cavalinha1 = peso_cavalinha(df_c['Moda (cm)'][4]) * pjh_cavalinha1\n",
    "p_cavalinha2 = peso_cavalinha(df_c['Moda (cm)'][5]) * pjh_cavalinha2\n",
    "\n",
    "'''Sub-área B'''\n",
    "# Sardinha\n",
    "p_sardinha3 = peso_sardinha(df_d['Moda (cm)'][0]) * pjh_sardinha3\n",
    "p_sardinha4 = peso_sardinha(df_d['Moda (cm)'][1]) * pjh_sardinha4\n",
    "# Xixarro\n",
    "p_xixarro3 = peso_xixarro(df_d['Moda (cm)'][2]) * pjh_xixarro3\n",
    "p_xixarro4 = peso_xixarro(df_d['Moda (cm)'][3]) * pjh_xixarro4\n",
    "# Cavalinha\n",
    "p_cavalinha3 = peso_cavalinha(df_d['Moda (cm)'][4]) * pjh_cavalinha3\n",
    "p_cavalinha4 = peso_cavalinha(df_d['Moda (cm)'][5]) * pjh_cavalinha4"
   ]
  },
  {
   "cell_type": "code",
   "execution_count": 19,
   "metadata": {},
   "outputs": [],
   "source": [
    "# Densidade em peso por espécie e sub-área\n",
    "\n",
    "'''Sub-área A'''\n",
    "# Sardinha\n",
    "pa_sardinha = round(p_sardinha1 + p_sardinha2, 2)\n",
    "# Xixarro\n",
    "pa_xixarro = round(p_xixarro1 + p_xixarro2, 2)\n",
    "# Cavalinha\n",
    "pa_cavalinha = round(p_cavalinha1 + p_cavalinha2, 2)\n",
    "\n",
    "'''Sub-área B'''\n",
    "pb_sardinha = round(p_sardinha3 + p_sardinha4, 2)\n",
    "# Xixarro\n",
    "pb_xixarro = round(p_xixarro3 + p_xixarro4, 2)\n",
    "# Cavalinha\n",
    "pb_cavalinha = round(p_cavalinha3 + p_cavalinha4, 2)\n",
    "\n",
    "densidade_peso_a = np.array([pa_sardinha, pa_xixarro, pa_cavalinha])\n",
    "densidade_peso_b = np.array([pb_sardinha, pb_xixarro, pb_cavalinha])"
   ]
  },
  {
   "cell_type": "code",
   "execution_count": 20,
   "metadata": {},
   "outputs": [
    {
     "name": "stdout",
     "output_type": "stream",
     "text": [
      "Sub-área A\n"
     ]
    },
    {
     "data": {
      "text/html": [
       "<div>\n",
       "<style scoped>\n",
       "    .dataframe tbody tr th:only-of-type {\n",
       "        vertical-align: middle;\n",
       "    }\n",
       "\n",
       "    .dataframe tbody tr th {\n",
       "        vertical-align: top;\n",
       "    }\n",
       "\n",
       "    .dataframe thead th {\n",
       "        text-align: right;\n",
       "    }\n",
       "</style>\n",
       "<table border=\"1\" class=\"dataframe\">\n",
       "  <thead>\n",
       "    <tr style=\"text-align: right;\">\n",
       "      <th></th>\n",
       "      <th>Densidade Numérica (nºind/mn²)</th>\n",
       "      <th>Densidade em peso (ton/mn²)</th>\n",
       "    </tr>\n",
       "  </thead>\n",
       "  <tbody>\n",
       "    <tr>\n",
       "      <th>Sardinha</th>\n",
       "      <td>737974.69</td>\n",
       "      <td>7.97</td>\n",
       "    </tr>\n",
       "    <tr>\n",
       "      <th>Xixarro</th>\n",
       "      <td>757741.87</td>\n",
       "      <td>7.55</td>\n",
       "    </tr>\n",
       "    <tr>\n",
       "      <th>Cavalinha</th>\n",
       "      <td>92246.84</td>\n",
       "      <td>1.48</td>\n",
       "    </tr>\n",
       "  </tbody>\n",
       "</table>\n",
       "</div>"
      ],
      "text/plain": [
       "           Densidade Numérica (nºind/mn²)  Densidade em peso (ton/mn²)\n",
       "Sardinha                        737974.69                         7.97\n",
       "Xixarro                         757741.87                         7.55\n",
       "Cavalinha                        92246.84                         1.48"
      ]
     },
     "execution_count": 20,
     "metadata": {},
     "output_type": "execute_result"
    }
   ],
   "source": [
    "# Dataframe com as densidades em número e em peso para a Sub-área A\n",
    "df_sub_a = pd.DataFrame(densidade_numerica_a, index=['Sardinha', 'Xixarro', 'Cavalinha'] ,columns=['Densidade Numérica (nºind/mn²)'])\n",
    "df_sub_a['Densidade em peso (ton/mn²)'] = densidade_peso_a\n",
    "print('Sub-área A')\n",
    "df_sub_a"
   ]
  },
  {
   "cell_type": "code",
   "execution_count": 21,
   "metadata": {},
   "outputs": [
    {
     "name": "stdout",
     "output_type": "stream",
     "text": [
      "Sub-área B\n"
     ]
    },
    {
     "data": {
      "text/html": [
       "<div>\n",
       "<style scoped>\n",
       "    .dataframe tbody tr th:only-of-type {\n",
       "        vertical-align: middle;\n",
       "    }\n",
       "\n",
       "    .dataframe tbody tr th {\n",
       "        vertical-align: top;\n",
       "    }\n",
       "\n",
       "    .dataframe thead th {\n",
       "        text-align: right;\n",
       "    }\n",
       "</style>\n",
       "<table border=\"1\" class=\"dataframe\">\n",
       "  <thead>\n",
       "    <tr style=\"text-align: right;\">\n",
       "      <th></th>\n",
       "      <th>Densidade Numérica (nºind/mn²)</th>\n",
       "      <th>Densidade em peso (ton/mn²)</th>\n",
       "    </tr>\n",
       "  </thead>\n",
       "  <tbody>\n",
       "    <tr>\n",
       "      <th>Sardinha</th>\n",
       "      <td>566966.71</td>\n",
       "      <td>16.70</td>\n",
       "    </tr>\n",
       "    <tr>\n",
       "      <th>Xixarro</th>\n",
       "      <td>865370.24</td>\n",
       "      <td>21.62</td>\n",
       "    </tr>\n",
       "    <tr>\n",
       "      <th>Cavalinha</th>\n",
       "      <td>566966.71</td>\n",
       "      <td>17.85</td>\n",
       "    </tr>\n",
       "  </tbody>\n",
       "</table>\n",
       "</div>"
      ],
      "text/plain": [
       "           Densidade Numérica (nºind/mn²)  Densidade em peso (ton/mn²)\n",
       "Sardinha                        566966.71                        16.70\n",
       "Xixarro                         865370.24                        21.62\n",
       "Cavalinha                       566966.71                        17.85"
      ]
     },
     "execution_count": 21,
     "metadata": {},
     "output_type": "execute_result"
    }
   ],
   "source": [
    "# Dataframe com as densidades em número e em peso para a Sub-área B\n",
    "df_sub_b = pd.DataFrame(densidade_numerica_b, index=['Sardinha', 'Xixarro', 'Cavalinha'] ,columns=['Densidade Numérica (nºind/mn²)'])\n",
    "df_sub_b['Densidade em peso (ton/mn²)'] = densidade_peso_b\n",
    "print('Sub-área B')\n",
    "df_sub_b"
   ]
  },
  {
   "cell_type": "code",
   "execution_count": 22,
   "metadata": {},
   "outputs": [],
   "source": [
    "# Sub-áreas A e B\n",
    "sub_area_a = 250\n",
    "sub_area_b = 250"
   ]
  },
  {
   "cell_type": "code",
   "execution_count": 23,
   "metadata": {},
   "outputs": [],
   "source": [
    "# Cálculo da biomassa\n",
    "\n",
    "'''Sub-área A'''\n",
    "biom_sardinha_a = sub_area_a * pa_sardinha\n",
    "biom_xixarro_a = sub_area_a * pa_xixarro\n",
    "biom_cavalinha_a = sub_area_a * pa_cavalinha\n",
    "\n",
    "'''Sub-área B'''\n",
    "biom_sardinha_b = sub_area_b * pb_sardinha\n",
    "biom_xixarro_b = sub_area_b * pb_xixarro\n",
    "biom_cavalinha_b = sub_area_b * pb_cavalinha\n",
    "\n",
    "# Soma das biomassas\n",
    "biom_sardinha = biom_sardinha_a + biom_sardinha_b\n",
    "biom_xixarro = biom_xixarro_a + biom_xixarro_b\n",
    "biom_cavalinha = biom_cavalinha_a + biom_cavalinha_b\n",
    "\n",
    "biom_a = np.array([biom_sardinha_a, biom_xixarro_a, biom_cavalinha_a])\n",
    "biom_b = np.array([biom_sardinha_b, biom_xixarro_b, biom_cavalinha_b])"
   ]
  },
  {
   "cell_type": "code",
   "execution_count": 24,
   "metadata": {},
   "outputs": [
    {
     "name": "stdout",
     "output_type": "stream",
     "text": [
      "Sub-área A\n"
     ]
    },
    {
     "data": {
      "text/html": [
       "<div>\n",
       "<style scoped>\n",
       "    .dataframe tbody tr th:only-of-type {\n",
       "        vertical-align: middle;\n",
       "    }\n",
       "\n",
       "    .dataframe tbody tr th {\n",
       "        vertical-align: top;\n",
       "    }\n",
       "\n",
       "    .dataframe thead th {\n",
       "        text-align: right;\n",
       "    }\n",
       "</style>\n",
       "<table border=\"1\" class=\"dataframe\">\n",
       "  <thead>\n",
       "    <tr style=\"text-align: right;\">\n",
       "      <th></th>\n",
       "      <th>Biomassa (ton)</th>\n",
       "    </tr>\n",
       "  </thead>\n",
       "  <tbody>\n",
       "    <tr>\n",
       "      <th>Sardinha</th>\n",
       "      <td>1992.5</td>\n",
       "    </tr>\n",
       "    <tr>\n",
       "      <th>Xixarro</th>\n",
       "      <td>1887.5</td>\n",
       "    </tr>\n",
       "    <tr>\n",
       "      <th>Cavalinha</th>\n",
       "      <td>370.0</td>\n",
       "    </tr>\n",
       "  </tbody>\n",
       "</table>\n",
       "</div>"
      ],
      "text/plain": [
       "           Biomassa (ton)\n",
       "Sardinha           1992.5\n",
       "Xixarro            1887.5\n",
       "Cavalinha           370.0"
      ]
     },
     "execution_count": 24,
     "metadata": {},
     "output_type": "execute_result"
    }
   ],
   "source": [
    "# Dataframe da biomassa sub-área A\n",
    "\n",
    "df_biom_a = pd.DataFrame(biom_a, index=['Sardinha', 'Xixarro', 'Cavalinha'], columns=['Biomassa (ton)'])\n",
    "print('Sub-área A')\n",
    "df_biom_a"
   ]
  },
  {
   "cell_type": "code",
   "execution_count": 25,
   "metadata": {},
   "outputs": [
    {
     "name": "stdout",
     "output_type": "stream",
     "text": [
      "Sub-área B\n"
     ]
    },
    {
     "data": {
      "text/html": [
       "<div>\n",
       "<style scoped>\n",
       "    .dataframe tbody tr th:only-of-type {\n",
       "        vertical-align: middle;\n",
       "    }\n",
       "\n",
       "    .dataframe tbody tr th {\n",
       "        vertical-align: top;\n",
       "    }\n",
       "\n",
       "    .dataframe thead th {\n",
       "        text-align: right;\n",
       "    }\n",
       "</style>\n",
       "<table border=\"1\" class=\"dataframe\">\n",
       "  <thead>\n",
       "    <tr style=\"text-align: right;\">\n",
       "      <th></th>\n",
       "      <th>Biomassa (ton)</th>\n",
       "    </tr>\n",
       "  </thead>\n",
       "  <tbody>\n",
       "    <tr>\n",
       "      <th>Sardinha</th>\n",
       "      <td>4175.0</td>\n",
       "    </tr>\n",
       "    <tr>\n",
       "      <th>Xixarro</th>\n",
       "      <td>5405.0</td>\n",
       "    </tr>\n",
       "    <tr>\n",
       "      <th>Cavalinha</th>\n",
       "      <td>4462.5</td>\n",
       "    </tr>\n",
       "  </tbody>\n",
       "</table>\n",
       "</div>"
      ],
      "text/plain": [
       "           Biomassa (ton)\n",
       "Sardinha           4175.0\n",
       "Xixarro            5405.0\n",
       "Cavalinha          4462.5"
      ]
     },
     "execution_count": 25,
     "metadata": {},
     "output_type": "execute_result"
    }
   ],
   "source": [
    "# Dataframe da biomassa sub-área B\n",
    "\n",
    "df_biom_b = pd.DataFrame(biom_b, index=['Sardinha', 'Xixarro', 'Cavalinha'], columns=['Biomassa (ton)'])\n",
    "print('Sub-área B')\n",
    "df_biom_b"
   ]
  },
  {
   "cell_type": "code",
   "execution_count": 26,
   "metadata": {},
   "outputs": [
    {
     "name": "stdout",
     "output_type": "stream",
     "text": [
      "Biomassa Total\n"
     ]
    },
    {
     "data": {
      "text/html": [
       "<div>\n",
       "<style scoped>\n",
       "    .dataframe tbody tr th:only-of-type {\n",
       "        vertical-align: middle;\n",
       "    }\n",
       "\n",
       "    .dataframe tbody tr th {\n",
       "        vertical-align: top;\n",
       "    }\n",
       "\n",
       "    .dataframe thead th {\n",
       "        text-align: right;\n",
       "    }\n",
       "</style>\n",
       "<table border=\"1\" class=\"dataframe\">\n",
       "  <thead>\n",
       "    <tr style=\"text-align: right;\">\n",
       "      <th></th>\n",
       "      <th>Biomassa (ton)</th>\n",
       "    </tr>\n",
       "  </thead>\n",
       "  <tbody>\n",
       "    <tr>\n",
       "      <th>Sardinha</th>\n",
       "      <td>6167.5</td>\n",
       "    </tr>\n",
       "    <tr>\n",
       "      <th>Xixarro</th>\n",
       "      <td>7292.5</td>\n",
       "    </tr>\n",
       "    <tr>\n",
       "      <th>Cavalinha</th>\n",
       "      <td>4832.5</td>\n",
       "    </tr>\n",
       "  </tbody>\n",
       "</table>\n",
       "</div>"
      ],
      "text/plain": [
       "           Biomassa (ton)\n",
       "Sardinha           6167.5\n",
       "Xixarro            7292.5\n",
       "Cavalinha          4832.5"
      ]
     },
     "execution_count": 26,
     "metadata": {},
     "output_type": "execute_result"
    }
   ],
   "source": [
    "# Dataframe do total de biomassa por espécie\n",
    "\n",
    "data = np.array([biom_sardinha, biom_xixarro, biom_cavalinha])\n",
    "col = ['Biomassa (ton)']\n",
    "index = ['Sardinha', 'Xixarro', 'Cavalinha']\n",
    "df_biomassa = pd.DataFrame(data, index, col)\n",
    "print('Biomassa Total')\n",
    "df_biomassa"
   ]
  },
  {
   "cell_type": "code",
   "execution_count": 27,
   "metadata": {},
   "outputs": [
    {
     "name": "stdout",
     "output_type": "stream",
     "text": [
      "Grau de cobertura: 4.919\n"
     ]
    }
   ],
   "source": [
    "# Grau de cobertura\n",
    "area = 500 # área total\n",
    "d = 110 # distância do percurso do cruzeiro\n",
    "grau_cob = round((d  / (area)**0.5), 3)\n",
    "print(f'Grau de cobertura: {grau_cob}')"
   ]
  },
  {
   "cell_type": "markdown",
   "metadata": {},
   "source": [
    "### Considerações"
   ]
  },
  {
   "cell_type": "markdown",
   "metadata": {},
   "source": [
    "O grau de cobertura obtido a partir do desenho amostral é considerado bom, uma vez que seu valor é maior que quatro."
   ]
  },
  {
   "cell_type": "markdown",
   "metadata": {},
   "source": [
    "Comparando os resultados obtidos entre as sub-áreas A e B é notável uma biomassa maior das espécies na sub-área B. Tal fato ocorre devido as águas dessa região serem mais salinas quando comparada com a sub-área A, propiciando portanto condições ambientais melhores para o desenvolvimento das espécies."
   ]
  }
 ],
 "metadata": {
  "kernelspec": {
   "display_name": "Python 3",
   "language": "python",
   "name": "python3"
  },
  "language_info": {
   "codemirror_mode": {
    "name": "ipython",
    "version": 3
   },
   "file_extension": ".py",
   "mimetype": "text/x-python",
   "name": "python",
   "nbconvert_exporter": "python",
   "pygments_lexer": "ipython3",
   "version": "3.7.6"
  }
 },
 "nbformat": 4,
 "nbformat_minor": 4
}
